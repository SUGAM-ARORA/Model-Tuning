{
 "cells": [
  {
   "cell_type": "code",
   "execution_count": 3,
   "id": "bc87f64f",
   "metadata": {},
   "outputs": [],
   "source": [
    "import warnings\n",
    "warnings.filterwarnings('ignore')"
   ]
  },
  {
   "cell_type": "code",
   "execution_count": 4,
   "id": "3eafda6e",
   "metadata": {},
   "outputs": [
    {
     "data": {
      "text/html": [
       "<div>\n",
       "<style scoped>\n",
       "    .dataframe tbody tr th:only-of-type {\n",
       "        vertical-align: middle;\n",
       "    }\n",
       "\n",
       "    .dataframe tbody tr th {\n",
       "        vertical-align: top;\n",
       "    }\n",
       "\n",
       "    .dataframe thead th {\n",
       "        text-align: right;\n",
       "    }\n",
       "</style>\n",
       "<table border=\"1\" class=\"dataframe\">\n",
       "  <thead>\n",
       "    <tr style=\"text-align: right;\">\n",
       "      <th></th>\n",
       "      <th>Pregnancies</th>\n",
       "      <th>Glucose</th>\n",
       "      <th>BloodPressure</th>\n",
       "      <th>SkinThickness</th>\n",
       "      <th>Insulin</th>\n",
       "      <th>BMI</th>\n",
       "      <th>DiabetesPedigreeFunction</th>\n",
       "      <th>Age</th>\n",
       "      <th>Outcome</th>\n",
       "    </tr>\n",
       "  </thead>\n",
       "  <tbody>\n",
       "    <tr>\n",
       "      <th>0</th>\n",
       "      <td>6</td>\n",
       "      <td>148</td>\n",
       "      <td>72</td>\n",
       "      <td>35</td>\n",
       "      <td>0</td>\n",
       "      <td>33.6</td>\n",
       "      <td>0.627</td>\n",
       "      <td>50</td>\n",
       "      <td>1</td>\n",
       "    </tr>\n",
       "    <tr>\n",
       "      <th>1</th>\n",
       "      <td>1</td>\n",
       "      <td>85</td>\n",
       "      <td>66</td>\n",
       "      <td>29</td>\n",
       "      <td>0</td>\n",
       "      <td>26.6</td>\n",
       "      <td>0.351</td>\n",
       "      <td>31</td>\n",
       "      <td>0</td>\n",
       "    </tr>\n",
       "    <tr>\n",
       "      <th>2</th>\n",
       "      <td>8</td>\n",
       "      <td>183</td>\n",
       "      <td>64</td>\n",
       "      <td>0</td>\n",
       "      <td>0</td>\n",
       "      <td>23.3</td>\n",
       "      <td>0.672</td>\n",
       "      <td>32</td>\n",
       "      <td>1</td>\n",
       "    </tr>\n",
       "    <tr>\n",
       "      <th>3</th>\n",
       "      <td>1</td>\n",
       "      <td>89</td>\n",
       "      <td>66</td>\n",
       "      <td>23</td>\n",
       "      <td>94</td>\n",
       "      <td>28.1</td>\n",
       "      <td>0.167</td>\n",
       "      <td>21</td>\n",
       "      <td>0</td>\n",
       "    </tr>\n",
       "    <tr>\n",
       "      <th>4</th>\n",
       "      <td>0</td>\n",
       "      <td>137</td>\n",
       "      <td>40</td>\n",
       "      <td>35</td>\n",
       "      <td>168</td>\n",
       "      <td>43.1</td>\n",
       "      <td>2.288</td>\n",
       "      <td>33</td>\n",
       "      <td>1</td>\n",
       "    </tr>\n",
       "  </tbody>\n",
       "</table>\n",
       "</div>"
      ],
      "text/plain": [
       "   Pregnancies  Glucose  BloodPressure  SkinThickness  Insulin   BMI  \\\n",
       "0            6      148             72             35        0  33.6   \n",
       "1            1       85             66             29        0  26.6   \n",
       "2            8      183             64              0        0  23.3   \n",
       "3            1       89             66             23       94  28.1   \n",
       "4            0      137             40             35      168  43.1   \n",
       "\n",
       "   DiabetesPedigreeFunction  Age  Outcome  \n",
       "0                     0.627   50        1  \n",
       "1                     0.351   31        0  \n",
       "2                     0.672   32        1  \n",
       "3                     0.167   21        0  \n",
       "4                     2.288   33        1  "
      ]
     },
     "execution_count": 4,
     "metadata": {},
     "output_type": "execute_result"
    }
   ],
   "source": [
    "import pandas as pd\n",
    "df=pd.read_csv('diabetes.csv')\n",
    "df.head()"
   ]
  },
  {
   "cell_type": "code",
   "execution_count": 5,
   "id": "18ec6e4f",
   "metadata": {},
   "outputs": [
    {
     "data": {
      "text/html": [
       "<div>\n",
       "<style scoped>\n",
       "    .dataframe tbody tr th:only-of-type {\n",
       "        vertical-align: middle;\n",
       "    }\n",
       "\n",
       "    .dataframe tbody tr th {\n",
       "        vertical-align: top;\n",
       "    }\n",
       "\n",
       "    .dataframe thead th {\n",
       "        text-align: right;\n",
       "    }\n",
       "</style>\n",
       "<table border=\"1\" class=\"dataframe\">\n",
       "  <thead>\n",
       "    <tr style=\"text-align: right;\">\n",
       "      <th></th>\n",
       "      <th>Pregnancies</th>\n",
       "      <th>Glucose</th>\n",
       "      <th>BloodPressure</th>\n",
       "      <th>SkinThickness</th>\n",
       "      <th>Insulin</th>\n",
       "      <th>BMI</th>\n",
       "      <th>DiabetesPedigreeFunction</th>\n",
       "      <th>Age</th>\n",
       "      <th>Outcome</th>\n",
       "    </tr>\n",
       "  </thead>\n",
       "  <tbody>\n",
       "    <tr>\n",
       "      <th>0</th>\n",
       "      <td>6</td>\n",
       "      <td>148.0</td>\n",
       "      <td>72</td>\n",
       "      <td>35</td>\n",
       "      <td>30.5</td>\n",
       "      <td>33.6</td>\n",
       "      <td>0.627</td>\n",
       "      <td>50</td>\n",
       "      <td>1</td>\n",
       "    </tr>\n",
       "    <tr>\n",
       "      <th>1</th>\n",
       "      <td>1</td>\n",
       "      <td>85.0</td>\n",
       "      <td>66</td>\n",
       "      <td>29</td>\n",
       "      <td>30.5</td>\n",
       "      <td>26.6</td>\n",
       "      <td>0.351</td>\n",
       "      <td>31</td>\n",
       "      <td>0</td>\n",
       "    </tr>\n",
       "    <tr>\n",
       "      <th>2</th>\n",
       "      <td>8</td>\n",
       "      <td>183.0</td>\n",
       "      <td>64</td>\n",
       "      <td>0</td>\n",
       "      <td>30.5</td>\n",
       "      <td>23.3</td>\n",
       "      <td>0.672</td>\n",
       "      <td>32</td>\n",
       "      <td>1</td>\n",
       "    </tr>\n",
       "    <tr>\n",
       "      <th>3</th>\n",
       "      <td>1</td>\n",
       "      <td>89.0</td>\n",
       "      <td>66</td>\n",
       "      <td>23</td>\n",
       "      <td>94.0</td>\n",
       "      <td>28.1</td>\n",
       "      <td>0.167</td>\n",
       "      <td>21</td>\n",
       "      <td>0</td>\n",
       "    </tr>\n",
       "    <tr>\n",
       "      <th>4</th>\n",
       "      <td>0</td>\n",
       "      <td>137.0</td>\n",
       "      <td>40</td>\n",
       "      <td>35</td>\n",
       "      <td>168.0</td>\n",
       "      <td>43.1</td>\n",
       "      <td>2.288</td>\n",
       "      <td>33</td>\n",
       "      <td>1</td>\n",
       "    </tr>\n",
       "  </tbody>\n",
       "</table>\n",
       "</div>"
      ],
      "text/plain": [
       "   Pregnancies  Glucose  BloodPressure  SkinThickness  Insulin   BMI  \\\n",
       "0            6    148.0             72             35     30.5  33.6   \n",
       "1            1     85.0             66             29     30.5  26.6   \n",
       "2            8    183.0             64              0     30.5  23.3   \n",
       "3            1     89.0             66             23     94.0  28.1   \n",
       "4            0    137.0             40             35    168.0  43.1   \n",
       "\n",
       "   DiabetesPedigreeFunction  Age  Outcome  \n",
       "0                     0.627   50        1  \n",
       "1                     0.351   31        0  \n",
       "2                     0.672   32        1  \n",
       "3                     0.167   21        0  \n",
       "4                     2.288   33        1  "
      ]
     },
     "execution_count": 5,
     "metadata": {},
     "output_type": "execute_result"
    }
   ],
   "source": [
    "import numpy as np\n",
    "df['Glucose']=np.where(df['Glucose']==0,df['Glucose'].median(),df['Glucose'])\n",
    "df['Insulin']=np.where(df['Insulin']==0,df['Insulin'].median(),df['Insulin'])\n",
    "df.head()"
   ]
  },
  {
   "cell_type": "code",
   "execution_count": 6,
   "id": "29f470b4",
   "metadata": {},
   "outputs": [],
   "source": [
    "#### Independent And Dependent features\n",
    "X=df.drop('Outcome',axis=1)\n",
    "y=df['Outcome']"
   ]
  },
  {
   "cell_type": "code",
   "execution_count": 7,
   "id": "44bab92c",
   "metadata": {},
   "outputs": [
    {
     "name": "stdout",
     "output_type": "stream",
     "text": [
      "   Pregnancies  Glucose  BloodPressure  SkinThickness  Insulin   BMI  \\\n",
      "0            6    148.0             72             35     30.5  33.6   \n",
      "1            1     85.0             66             29     30.5  26.6   \n",
      "2            8    183.0             64              0     30.5  23.3   \n",
      "3            1     89.0             66             23     94.0  28.1   \n",
      "4            0    137.0             40             35    168.0  43.1   \n",
      "\n",
      "   DiabetesPedigreeFunction  Age  \n",
      "0                     0.627   50  \n",
      "1                     0.351   31  \n",
      "2                     0.672   32  \n",
      "3                     0.167   21  \n",
      "4                     2.288   33  \n",
      "0    1\n",
      "1    0\n",
      "2    1\n",
      "3    0\n",
      "4    1\n",
      "Name: Outcome, dtype: int64\n"
     ]
    }
   ],
   "source": [
    "print(X.head())\n",
    "print(y.head())"
   ]
  },
  {
   "cell_type": "code",
   "execution_count": 8,
   "id": "aa6103d9",
   "metadata": {},
   "outputs": [
    {
     "data": {
      "text/html": [
       "<div>\n",
       "<style scoped>\n",
       "    .dataframe tbody tr th:only-of-type {\n",
       "        vertical-align: middle;\n",
       "    }\n",
       "\n",
       "    .dataframe tbody tr th {\n",
       "        vertical-align: top;\n",
       "    }\n",
       "\n",
       "    .dataframe thead th {\n",
       "        text-align: right;\n",
       "    }\n",
       "</style>\n",
       "<table border=\"1\" class=\"dataframe\">\n",
       "  <thead>\n",
       "    <tr style=\"text-align: right;\">\n",
       "      <th></th>\n",
       "      <th>Pregnancies</th>\n",
       "      <th>Glucose</th>\n",
       "      <th>BloodPressure</th>\n",
       "      <th>SkinThickness</th>\n",
       "      <th>Insulin</th>\n",
       "      <th>BMI</th>\n",
       "      <th>DiabetesPedigreeFunction</th>\n",
       "      <th>Age</th>\n",
       "    </tr>\n",
       "  </thead>\n",
       "  <tbody>\n",
       "    <tr>\n",
       "      <th>0</th>\n",
       "      <td>6</td>\n",
       "      <td>148.0</td>\n",
       "      <td>72</td>\n",
       "      <td>35</td>\n",
       "      <td>30.5</td>\n",
       "      <td>33.6</td>\n",
       "      <td>0.627</td>\n",
       "      <td>50</td>\n",
       "    </tr>\n",
       "    <tr>\n",
       "      <th>1</th>\n",
       "      <td>1</td>\n",
       "      <td>85.0</td>\n",
       "      <td>66</td>\n",
       "      <td>29</td>\n",
       "      <td>30.5</td>\n",
       "      <td>26.6</td>\n",
       "      <td>0.351</td>\n",
       "      <td>31</td>\n",
       "    </tr>\n",
       "    <tr>\n",
       "      <th>2</th>\n",
       "      <td>8</td>\n",
       "      <td>183.0</td>\n",
       "      <td>64</td>\n",
       "      <td>0</td>\n",
       "      <td>30.5</td>\n",
       "      <td>23.3</td>\n",
       "      <td>0.672</td>\n",
       "      <td>32</td>\n",
       "    </tr>\n",
       "    <tr>\n",
       "      <th>3</th>\n",
       "      <td>1</td>\n",
       "      <td>89.0</td>\n",
       "      <td>66</td>\n",
       "      <td>23</td>\n",
       "      <td>94.0</td>\n",
       "      <td>28.1</td>\n",
       "      <td>0.167</td>\n",
       "      <td>21</td>\n",
       "    </tr>\n",
       "    <tr>\n",
       "      <th>4</th>\n",
       "      <td>0</td>\n",
       "      <td>137.0</td>\n",
       "      <td>40</td>\n",
       "      <td>35</td>\n",
       "      <td>168.0</td>\n",
       "      <td>43.1</td>\n",
       "      <td>2.288</td>\n",
       "      <td>33</td>\n",
       "    </tr>\n",
       "    <tr>\n",
       "      <th>...</th>\n",
       "      <td>...</td>\n",
       "      <td>...</td>\n",
       "      <td>...</td>\n",
       "      <td>...</td>\n",
       "      <td>...</td>\n",
       "      <td>...</td>\n",
       "      <td>...</td>\n",
       "      <td>...</td>\n",
       "    </tr>\n",
       "    <tr>\n",
       "      <th>763</th>\n",
       "      <td>10</td>\n",
       "      <td>101.0</td>\n",
       "      <td>76</td>\n",
       "      <td>48</td>\n",
       "      <td>180.0</td>\n",
       "      <td>32.9</td>\n",
       "      <td>0.171</td>\n",
       "      <td>63</td>\n",
       "    </tr>\n",
       "    <tr>\n",
       "      <th>764</th>\n",
       "      <td>2</td>\n",
       "      <td>122.0</td>\n",
       "      <td>70</td>\n",
       "      <td>27</td>\n",
       "      <td>30.5</td>\n",
       "      <td>36.8</td>\n",
       "      <td>0.340</td>\n",
       "      <td>27</td>\n",
       "    </tr>\n",
       "    <tr>\n",
       "      <th>765</th>\n",
       "      <td>5</td>\n",
       "      <td>121.0</td>\n",
       "      <td>72</td>\n",
       "      <td>23</td>\n",
       "      <td>112.0</td>\n",
       "      <td>26.2</td>\n",
       "      <td>0.245</td>\n",
       "      <td>30</td>\n",
       "    </tr>\n",
       "    <tr>\n",
       "      <th>766</th>\n",
       "      <td>1</td>\n",
       "      <td>126.0</td>\n",
       "      <td>60</td>\n",
       "      <td>0</td>\n",
       "      <td>30.5</td>\n",
       "      <td>30.1</td>\n",
       "      <td>0.349</td>\n",
       "      <td>47</td>\n",
       "    </tr>\n",
       "    <tr>\n",
       "      <th>767</th>\n",
       "      <td>1</td>\n",
       "      <td>93.0</td>\n",
       "      <td>70</td>\n",
       "      <td>31</td>\n",
       "      <td>30.5</td>\n",
       "      <td>30.4</td>\n",
       "      <td>0.315</td>\n",
       "      <td>23</td>\n",
       "    </tr>\n",
       "  </tbody>\n",
       "</table>\n",
       "<p>768 rows × 8 columns</p>\n",
       "</div>"
      ],
      "text/plain": [
       "     Pregnancies  Glucose  BloodPressure  SkinThickness  Insulin   BMI  \\\n",
       "0              6    148.0             72             35     30.5  33.6   \n",
       "1              1     85.0             66             29     30.5  26.6   \n",
       "2              8    183.0             64              0     30.5  23.3   \n",
       "3              1     89.0             66             23     94.0  28.1   \n",
       "4              0    137.0             40             35    168.0  43.1   \n",
       "..           ...      ...            ...            ...      ...   ...   \n",
       "763           10    101.0             76             48    180.0  32.9   \n",
       "764            2    122.0             70             27     30.5  36.8   \n",
       "765            5    121.0             72             23    112.0  26.2   \n",
       "766            1    126.0             60              0     30.5  30.1   \n",
       "767            1     93.0             70             31     30.5  30.4   \n",
       "\n",
       "     DiabetesPedigreeFunction  Age  \n",
       "0                       0.627   50  \n",
       "1                       0.351   31  \n",
       "2                       0.672   32  \n",
       "3                       0.167   21  \n",
       "4                       2.288   33  \n",
       "..                        ...  ...  \n",
       "763                     0.171   63  \n",
       "764                     0.340   27  \n",
       "765                     0.245   30  \n",
       "766                     0.349   47  \n",
       "767                     0.315   23  \n",
       "\n",
       "[768 rows x 8 columns]"
      ]
     },
     "execution_count": 8,
     "metadata": {},
     "output_type": "execute_result"
    }
   ],
   "source": [
    "pd.DataFrame(X,columns=df.columns[:-1])"
   ]
  },
  {
   "cell_type": "code",
   "execution_count": 9,
   "id": "a72310b7",
   "metadata": {},
   "outputs": [],
   "source": [
    "#### Train Test Split\n",
    "from sklearn.model_selection import train_test_split\n",
    "X_train,X_test,y_train,y_test=train_test_split(X,y,test_size=0.20,random_state=0)"
   ]
  },
  {
   "cell_type": "code",
   "execution_count": 10,
   "id": "f6a2964c",
   "metadata": {},
   "outputs": [],
   "source": [
    "from sklearn.ensemble import RandomForestClassifier\n",
    "rf_classifier=RandomForestClassifier(n_estimators=10).fit(X_train,y_train)\n",
    "prediction=rf_classifier.predict(X_test)"
   ]
  },
  {
   "cell_type": "code",
   "execution_count": 11,
   "id": "4b473a56",
   "metadata": {},
   "outputs": [
    {
     "data": {
      "text/plain": [
       "0    500\n",
       "1    268\n",
       "Name: Outcome, dtype: int64"
      ]
     },
     "execution_count": 11,
     "metadata": {},
     "output_type": "execute_result"
    }
   ],
   "source": [
    "y.value_counts()"
   ]
  },
  {
   "cell_type": "code",
   "execution_count": 12,
   "id": "ea4fce34",
   "metadata": {},
   "outputs": [
    {
     "name": "stdout",
     "output_type": "stream",
     "text": [
      "[[91 16]\n",
      " [20 27]]\n",
      "0.7662337662337663\n",
      "              precision    recall  f1-score   support\n",
      "\n",
      "           0       0.82      0.85      0.83       107\n",
      "           1       0.63      0.57      0.60        47\n",
      "\n",
      "    accuracy                           0.77       154\n",
      "   macro avg       0.72      0.71      0.72       154\n",
      "weighted avg       0.76      0.77      0.76       154\n",
      "\n"
     ]
    }
   ],
   "source": [
    "from sklearn.metrics import confusion_matrix,classification_report,accuracy_score\n",
    "print(confusion_matrix(y_test,prediction))\n",
    "print(accuracy_score(y_test,prediction))\n",
    "print(classification_report(y_test,prediction))"
   ]
  },
  {
   "cell_type": "code",
   "execution_count": 13,
   "id": "7aab4927",
   "metadata": {},
   "outputs": [
    {
     "name": "stdout",
     "output_type": "stream",
     "text": [
      "[[98  9]\n",
      " [18 29]]\n",
      "0.8246753246753247\n",
      "              precision    recall  f1-score   support\n",
      "\n",
      "           0       0.84      0.92      0.88       107\n",
      "           1       0.76      0.62      0.68        47\n",
      "\n",
      "    accuracy                           0.82       154\n",
      "   macro avg       0.80      0.77      0.78       154\n",
      "weighted avg       0.82      0.82      0.82       154\n",
      "\n"
     ]
    }
   ],
   "source": [
    "### Manual Hyperparameter Tuning\n",
    "model=RandomForestClassifier(n_estimators=300,criterion='entropy',\n",
    "                             max_features='sqrt',min_samples_leaf=10,random_state=100).fit(X_train,y_train)\n",
    "predictions=model.predict(X_test)\n",
    "print(confusion_matrix(y_test,predictions))\n",
    "print(accuracy_score(y_test,predictions))\n",
    "print(classification_report(y_test,predictions))"
   ]
  },
  {
   "cell_type": "code",
   "execution_count": 14,
   "id": "6ea9ccfc",
   "metadata": {},
   "outputs": [
    {
     "name": "stdout",
     "output_type": "stream",
     "text": [
      "{'n_estimators': [200, 400, 600, 800, 1000, 1200, 1400, 1600, 1800, 2000], 'max_features': ['auto', 'sqrt', 'log2'], 'max_depth': [10, 120, 230, 340, 450, 560, 670, 780, 890, 1000], 'min_samples_split': [2, 5, 10, 14], 'min_samples_leaf': [1, 2, 4, 6, 8], 'criterion': ['entropy', 'gini']}\n"
     ]
    }
   ],
   "source": [
    "import numpy as np\n",
    "from sklearn.model_selection import RandomizedSearchCV\n",
    "# Number of trees in random forest\n",
    "n_estimators = [int(x) for x in np.linspace(start = 200, stop = 2000, num = 10)]\n",
    "# Number of features to consider at every split\n",
    "max_features = ['auto', 'sqrt','log2']\n",
    "# Maximum number of levels in tree\n",
    "max_depth = [int(x) for x in np.linspace(10, 1000,10)]\n",
    "# Minimum number of samples required to split a node\n",
    "min_samples_split = [2, 5, 10,14]\n",
    "# Minimum number of samples required at each leaf node\n",
    "min_samples_leaf = [1, 2, 4,6,8]\n",
    "# Create the random grid\n",
    "random_grid = {'n_estimators': n_estimators,\n",
    "               'max_features': max_features,\n",
    "               'max_depth': max_depth,\n",
    "               'min_samples_split': min_samples_split,\n",
    "               'min_samples_leaf': min_samples_leaf,\n",
    "              'criterion':['entropy','gini']}\n",
    "print(random_grid)"
   ]
  },
  {
   "cell_type": "code",
   "execution_count": 15,
   "id": "36a714e4",
   "metadata": {},
   "outputs": [
    {
     "name": "stdout",
     "output_type": "stream",
     "text": [
      "Fitting 3 folds for each of 100 candidates, totalling 300 fits\n"
     ]
    },
    {
     "data": {
      "text/plain": [
       "RandomizedSearchCV(cv=3, estimator=RandomForestClassifier(), n_iter=100,\n",
       "                   n_jobs=-1,\n",
       "                   param_distributions={'criterion': ['entropy', 'gini'],\n",
       "                                        'max_depth': [10, 120, 230, 340, 450,\n",
       "                                                      560, 670, 780, 890,\n",
       "                                                      1000],\n",
       "                                        'max_features': ['auto', 'sqrt',\n",
       "                                                         'log2'],\n",
       "                                        'min_samples_leaf': [1, 2, 4, 6, 8],\n",
       "                                        'min_samples_split': [2, 5, 10, 14],\n",
       "                                        'n_estimators': [200, 400, 600, 800,\n",
       "                                                         1000, 1200, 1400, 1600,\n",
       "                                                         1800, 2000]},\n",
       "                   random_state=100, verbose=2)"
      ]
     },
     "execution_count": 15,
     "metadata": {},
     "output_type": "execute_result"
    }
   ],
   "source": [
    "rf=RandomForestClassifier()\n",
    "rf_randomcv=RandomizedSearchCV(estimator=rf,param_distributions=random_grid,n_iter=100,cv=3,verbose=2,\n",
    "                               random_state=100,n_jobs=-1)\n",
    "### fit the randomized model\n",
    "rf_randomcv.fit(X_train,y_train)"
   ]
  },
  {
   "cell_type": "code",
   "execution_count": 16,
   "id": "d8d18910",
   "metadata": {},
   "outputs": [
    {
     "data": {
      "text/plain": [
       "{'n_estimators': 1800,\n",
       " 'min_samples_split': 5,\n",
       " 'min_samples_leaf': 1,\n",
       " 'max_features': 'auto',\n",
       " 'max_depth': 450,\n",
       " 'criterion': 'gini'}"
      ]
     },
     "execution_count": 16,
     "metadata": {},
     "output_type": "execute_result"
    }
   ],
   "source": [
    "rf_randomcv.best_params_"
   ]
  },
  {
   "cell_type": "code",
   "execution_count": 17,
   "id": "fc0ec123",
   "metadata": {},
   "outputs": [
    {
     "data": {
      "text/plain": [
       "RandomizedSearchCV(cv=3, estimator=RandomForestClassifier(), n_iter=100,\n",
       "                   n_jobs=-1,\n",
       "                   param_distributions={'criterion': ['entropy', 'gini'],\n",
       "                                        'max_depth': [10, 120, 230, 340, 450,\n",
       "                                                      560, 670, 780, 890,\n",
       "                                                      1000],\n",
       "                                        'max_features': ['auto', 'sqrt',\n",
       "                                                         'log2'],\n",
       "                                        'min_samples_leaf': [1, 2, 4, 6, 8],\n",
       "                                        'min_samples_split': [2, 5, 10, 14],\n",
       "                                        'n_estimators': [200, 400, 600, 800,\n",
       "                                                         1000, 1200, 1400, 1600,\n",
       "                                                         1800, 2000]},\n",
       "                   random_state=100, verbose=2)"
      ]
     },
     "execution_count": 17,
     "metadata": {},
     "output_type": "execute_result"
    }
   ],
   "source": [
    "rf_randomcv"
   ]
  },
  {
   "cell_type": "code",
   "execution_count": 18,
   "id": "3cd7dd99",
   "metadata": {},
   "outputs": [],
   "source": [
    "best_random_grid=rf_randomcv.best_estimator_"
   ]
  },
  {
   "cell_type": "code",
   "execution_count": 19,
   "id": "dae5ea69",
   "metadata": {},
   "outputs": [
    {
     "name": "stdout",
     "output_type": "stream",
     "text": [
      "[[94 13]\n",
      " [16 31]]\n",
      "Accuracy Score 0.8116883116883117\n",
      "Classification report:               precision    recall  f1-score   support\n",
      "\n",
      "           0       0.85      0.88      0.87       107\n",
      "           1       0.70      0.66      0.68        47\n",
      "\n",
      "    accuracy                           0.81       154\n",
      "   macro avg       0.78      0.77      0.77       154\n",
      "weighted avg       0.81      0.81      0.81       154\n",
      "\n"
     ]
    }
   ],
   "source": [
    "from sklearn.metrics import accuracy_score\n",
    "y_pred=best_random_grid.predict(X_test)\n",
    "print(confusion_matrix(y_test,y_pred))\n",
    "print(\"Accuracy Score {}\".format(accuracy_score(y_test,y_pred)))\n",
    "print(\"Classification report: {}\".format(classification_report(y_test,y_pred)))"
   ]
  },
  {
   "cell_type": "code",
   "execution_count": 20,
   "id": "5236ef7d",
   "metadata": {},
   "outputs": [],
   "source": [
    "##GridSearch CV##"
   ]
  },
  {
   "cell_type": "code",
   "execution_count": 21,
   "id": "ea14793f",
   "metadata": {},
   "outputs": [
    {
     "data": {
      "text/plain": [
       "{'n_estimators': 1800,\n",
       " 'min_samples_split': 5,\n",
       " 'min_samples_leaf': 1,\n",
       " 'max_features': 'auto',\n",
       " 'max_depth': 450,\n",
       " 'criterion': 'gini'}"
      ]
     },
     "execution_count": 21,
     "metadata": {},
     "output_type": "execute_result"
    }
   ],
   "source": [
    "rf_randomcv.best_params_"
   ]
  },
  {
   "cell_type": "code",
   "execution_count": 22,
   "id": "5e77314a",
   "metadata": {},
   "outputs": [
    {
     "name": "stdout",
     "output_type": "stream",
     "text": [
      "{'criterion': ['gini'], 'max_depth': [450], 'max_features': ['auto'], 'min_samples_leaf': [1, 3, 5], 'min_samples_split': [3, 4, 5, 6, 7], 'n_estimators': [1600, 1700, 1800, 1900, 2000]}\n"
     ]
    }
   ],
   "source": [
    "from sklearn.model_selection import GridSearchCV\n",
    "\n",
    "param_grid = {\n",
    "    'criterion': [rf_randomcv.best_params_['criterion']],\n",
    "    'max_depth': [rf_randomcv.best_params_['max_depth']],\n",
    "    'max_features': [rf_randomcv.best_params_['max_features']],\n",
    "    'min_samples_leaf': [rf_randomcv.best_params_['min_samples_leaf'], \n",
    "                         rf_randomcv.best_params_['min_samples_leaf']+2, \n",
    "                         rf_randomcv.best_params_['min_samples_leaf'] + 4],\n",
    "    'min_samples_split': [rf_randomcv.best_params_['min_samples_split'] - 2,\n",
    "                          rf_randomcv.best_params_['min_samples_split'] - 1,\n",
    "                          rf_randomcv.best_params_['min_samples_split'], \n",
    "                          rf_randomcv.best_params_['min_samples_split'] +1,\n",
    "                          rf_randomcv.best_params_['min_samples_split'] + 2],\n",
    "    'n_estimators': [rf_randomcv.best_params_['n_estimators'] - 200, rf_randomcv.best_params_['n_estimators'] - 100, \n",
    "                     rf_randomcv.best_params_['n_estimators'], \n",
    "                     rf_randomcv.best_params_['n_estimators'] + 100, rf_randomcv.best_params_['n_estimators'] + 200]\n",
    "}\n",
    "\n",
    "print(param_grid)"
   ]
  },
  {
   "cell_type": "code",
   "execution_count": 23,
   "id": "fe815ee1",
   "metadata": {},
   "outputs": [
    {
     "name": "stdout",
     "output_type": "stream",
     "text": [
      "Fitting 10 folds for each of 75 candidates, totalling 750 fits\n"
     ]
    },
    {
     "data": {
      "text/plain": [
       "GridSearchCV(cv=10, estimator=RandomForestClassifier(), n_jobs=-1,\n",
       "             param_grid={'criterion': ['gini'], 'max_depth': [450],\n",
       "                         'max_features': ['auto'],\n",
       "                         'min_samples_leaf': [1, 3, 5],\n",
       "                         'min_samples_split': [3, 4, 5, 6, 7],\n",
       "                         'n_estimators': [1600, 1700, 1800, 1900, 2000]},\n",
       "             verbose=2)"
      ]
     },
     "execution_count": 23,
     "metadata": {},
     "output_type": "execute_result"
    }
   ],
   "source": [
    "#### Fit the grid_search to the data\n",
    "rf=RandomForestClassifier()\n",
    "grid_search=GridSearchCV(estimator=rf,param_grid=param_grid,cv=10,n_jobs=-1,verbose=2)\n",
    "grid_search.fit(X_train,y_train)"
   ]
  },
  {
   "cell_type": "code",
   "execution_count": 24,
   "id": "9e430cce",
   "metadata": {},
   "outputs": [
    {
     "data": {
      "text/plain": [
       "RandomForestClassifier(max_depth=450, min_samples_leaf=5, min_samples_split=7,\n",
       "                       n_estimators=1800)"
      ]
     },
     "execution_count": 24,
     "metadata": {},
     "output_type": "execute_result"
    }
   ],
   "source": [
    "grid_search.best_estimator_"
   ]
  },
  {
   "cell_type": "code",
   "execution_count": 25,
   "id": "2342e0eb",
   "metadata": {},
   "outputs": [],
   "source": [
    "best_grid=grid_search.best_estimator_"
   ]
  },
  {
   "cell_type": "code",
   "execution_count": 26,
   "id": "32067111",
   "metadata": {},
   "outputs": [
    {
     "data": {
      "text/plain": [
       "RandomForestClassifier(max_depth=450, min_samples_leaf=5, min_samples_split=7,\n",
       "                       n_estimators=1800)"
      ]
     },
     "execution_count": 26,
     "metadata": {},
     "output_type": "execute_result"
    }
   ],
   "source": [
    "best_grid"
   ]
  },
  {
   "cell_type": "code",
   "execution_count": 27,
   "id": "0a0df4bc",
   "metadata": {},
   "outputs": [
    {
     "name": "stdout",
     "output_type": "stream",
     "text": [
      "[[97 10]\n",
      " [18 29]]\n",
      "Accuracy Score 0.8181818181818182\n",
      "Classification report:               precision    recall  f1-score   support\n",
      "\n",
      "           0       0.84      0.91      0.87       107\n",
      "           1       0.74      0.62      0.67        47\n",
      "\n",
      "    accuracy                           0.82       154\n",
      "   macro avg       0.79      0.76      0.77       154\n",
      "weighted avg       0.81      0.82      0.81       154\n",
      "\n"
     ]
    }
   ],
   "source": [
    "y_pred=best_grid.predict(X_test)\n",
    "print(confusion_matrix(y_test,y_pred))\n",
    "print(\"Accuracy Score {}\".format(accuracy_score(y_test,y_pred)))\n",
    "print(\"Classification report: {}\".format(classification_report(y_test,y_pred)))"
   ]
  },
  {
   "cell_type": "code",
   "execution_count": 28,
   "id": "856200ea",
   "metadata": {},
   "outputs": [
    {
     "name": "stdout",
     "output_type": "stream",
     "text": [
      "Requirement already satisfied: hyperopt in c:\\users\\sugam arora\\anaconda3\\lib\\site-packages (0.2.7)\n",
      "Requirement already satisfied: future in c:\\users\\sugam arora\\anaconda3\\lib\\site-packages (from hyperopt) (0.18.2)\n",
      "Requirement already satisfied: py4j in c:\\users\\sugam arora\\anaconda3\\lib\\site-packages (from hyperopt) (0.10.9.7)\n",
      "Requirement already satisfied: six in c:\\users\\sugam arora\\anaconda3\\lib\\site-packages (from hyperopt) (1.16.0)\n",
      "Requirement already satisfied: tqdm in c:\\users\\sugam arora\\anaconda3\\lib\\site-packages (from hyperopt) (4.64.0)\n",
      "Requirement already satisfied: networkx>=2.2 in c:\\users\\sugam arora\\anaconda3\\lib\\site-packages (from hyperopt) (2.7.1)\n",
      "Requirement already satisfied: scipy in c:\\users\\sugam arora\\anaconda3\\lib\\site-packages (from hyperopt) (1.7.3)\n",
      "Requirement already satisfied: cloudpickle in c:\\users\\sugam arora\\anaconda3\\lib\\site-packages (from hyperopt) (2.0.0)\n",
      "Requirement already satisfied: numpy in c:\\users\\sugam arora\\anaconda3\\lib\\site-packages (from hyperopt) (1.21.5)\n",
      "Requirement already satisfied: colorama in c:\\users\\sugam arora\\anaconda3\\lib\\site-packages (from tqdm->hyperopt) (0.4.4)\n",
      "Note: you may need to restart the kernel to use updated packages.\n"
     ]
    }
   ],
   "source": [
    "pip install hyperopt"
   ]
  },
  {
   "cell_type": "code",
   "execution_count": 29,
   "id": "2b3994f8",
   "metadata": {
    "scrolled": true
   },
   "outputs": [],
   "source": [
    "from hyperopt import hp,fmin,tpe,STATUS_OK,Trials"
   ]
  },
  {
   "cell_type": "code",
   "execution_count": 30,
   "id": "3485a1c6",
   "metadata": {},
   "outputs": [
    {
     "data": {
      "text/plain": [
       "{'criterion': <hyperopt.pyll.base.Apply at 0x23fa8af4760>,\n",
       " 'max_depth': <hyperopt.pyll.base.Apply at 0x23fa8af4c70>,\n",
       " 'max_features': <hyperopt.pyll.base.Apply at 0x23fa64f5310>,\n",
       " 'min_samples_leaf': <hyperopt.pyll.base.Apply at 0x23fa649d670>,\n",
       " 'min_samples_split': <hyperopt.pyll.base.Apply at 0x23fa649d610>,\n",
       " 'n_estimators': <hyperopt.pyll.base.Apply at 0x23fa8ad26a0>}"
      ]
     },
     "execution_count": 30,
     "metadata": {},
     "output_type": "execute_result"
    }
   ],
   "source": [
    "space = {'criterion': hp.choice('criterion', ['entropy', 'gini']),\n",
    "        'max_depth': hp.quniform('max_depth', 10, 1200, 10),\n",
    "        'max_features': hp.choice('max_features', ['auto', 'sqrt','log2', None]),\n",
    "        'min_samples_leaf': hp.uniform('min_samples_leaf', 0, 0.5),\n",
    "        'min_samples_split' : hp.uniform ('min_samples_split', 0, 1),\n",
    "        'n_estimators' : hp.choice('n_estimators', [10, 50, 300, 750, 1200,1300,1500])\n",
    "    }\n",
    "space\n"
   ]
  },
  {
   "cell_type": "code",
   "execution_count": 31,
   "id": "29522a5d",
   "metadata": {},
   "outputs": [],
   "source": [
    "def objective(space):\n",
    "    model = RandomForestClassifier(criterion = space['criterion'], max_depth = space['max_depth'],\n",
    "                                 max_features = space['max_features'],\n",
    "                                 min_samples_leaf = space['min_samples_leaf'],\n",
    "                                 min_samples_split = space['min_samples_split'],\n",
    "                                 n_estimators = space['n_estimators'], \n",
    "                                 )\n",
    "    \n",
    "    accuracy = cross_val_score(model, X_train, y_train, cv = 5).mean()\n",
    "\n",
    "    # We aim to maximize accuracy, therefore we return it as a negative value\n",
    "    return {'loss': -accuracy, 'status': STATUS_OK }"
   ]
  },
  {
   "cell_type": "code",
   "execution_count": 32,
   "id": "5611b873",
   "metadata": {},
   "outputs": [
    {
     "name": "stdout",
     "output_type": "stream",
     "text": [
      "100%|███████████████████████████████████████████████| 80/80 [07:57<00:00,  5.97s/trial, best loss: -0.7670931627349059]\n"
     ]
    },
    {
     "data": {
      "text/plain": [
       "{'criterion': 1,\n",
       " 'max_depth': 710.0,\n",
       " 'max_features': 2,\n",
       " 'min_samples_leaf': 0.06728187432776261,\n",
       " 'min_samples_split': 0.02895457766446234,\n",
       " 'n_estimators': 6}"
      ]
     },
     "execution_count": 32,
     "metadata": {},
     "output_type": "execute_result"
    }
   ],
   "source": [
    "from sklearn.model_selection import cross_val_score\n",
    "trials = Trials()\n",
    "best = fmin(fn= objective,\n",
    "            space= space,\n",
    "            algo= tpe.suggest,\n",
    "            max_evals = 80,\n",
    "            trials= trials)\n",
    "best"
   ]
  },
  {
   "cell_type": "code",
   "execution_count": 33,
   "id": "f46b757a",
   "metadata": {},
   "outputs": [
    {
     "name": "stdout",
     "output_type": "stream",
     "text": [
      "gini\n",
      "log2\n",
      "1500\n"
     ]
    }
   ],
   "source": [
    "crit = {0: 'entropy', 1: 'gini'}\n",
    "feat = {0: 'auto', 1: 'sqrt', 2: 'log2', 3: None}\n",
    "est = {0: 10, 1: 50, 2: 300, 3: 750, 4: 1200,5:1300,6:1500}\n",
    "\n",
    "\n",
    "print(crit[best['criterion']])\n",
    "print(feat[best['max_features']])\n",
    "print(est[best['n_estimators']])"
   ]
  },
  {
   "cell_type": "code",
   "execution_count": 34,
   "id": "ac774ad5",
   "metadata": {},
   "outputs": [
    {
     "data": {
      "text/plain": [
       "0.06728187432776261"
      ]
     },
     "execution_count": 34,
     "metadata": {},
     "output_type": "execute_result"
    }
   ],
   "source": [
    "best['min_samples_leaf']"
   ]
  },
  {
   "cell_type": "code",
   "execution_count": 35,
   "id": "b09a7c58",
   "metadata": {},
   "outputs": [
    {
     "name": "stdout",
     "output_type": "stream",
     "text": [
      "[[98  9]\n",
      " [21 26]]\n",
      "0.8051948051948052\n",
      "              precision    recall  f1-score   support\n",
      "\n",
      "           0       0.82      0.92      0.87       107\n",
      "           1       0.74      0.55      0.63        47\n",
      "\n",
      "    accuracy                           0.81       154\n",
      "   macro avg       0.78      0.73      0.75       154\n",
      "weighted avg       0.80      0.81      0.80       154\n",
      "\n"
     ]
    }
   ],
   "source": [
    "trainedforest = RandomForestClassifier(criterion = crit[best['criterion']], max_depth = best['max_depth'], \n",
    "                                       max_features = feat[best['max_features']], \n",
    "                                       min_samples_leaf = best['min_samples_leaf'], \n",
    "                                       min_samples_split = best['min_samples_split'], \n",
    "                                       n_estimators = est[best['n_estimators']]).fit(X_train,y_train)\n",
    "predictionforest = trainedforest.predict(X_test)\n",
    "print(confusion_matrix(y_test,predictionforest))\n",
    "print(accuracy_score(y_test,predictionforest))\n",
    "print(classification_report(y_test,predictionforest))\n",
    "acc5 = accuracy_score(y_test,predictionforest)"
   ]
  },
  {
   "cell_type": "code",
   "execution_count": 36,
   "id": "51bb92db",
   "metadata": {},
   "outputs": [
    {
     "name": "stdout",
     "output_type": "stream",
     "text": [
      "{'n_estimators': [200, 400, 600, 800, 1000, 1200, 1400, 1600, 1800, 2000], 'max_features': ['auto', 'sqrt', 'log2'], 'max_depth': [10, 120, 230, 340, 450, 560, 670, 780, 890, 1000], 'min_samples_split': [2, 5, 10, 14], 'min_samples_leaf': [1, 2, 4, 6, 8], 'criterion': ['entropy', 'gini']}\n"
     ]
    }
   ],
   "source": [
    "import numpy as np\n",
    "from sklearn.model_selection import RandomizedSearchCV\n",
    "# Number of trees in random forest\n",
    "n_estimators = [int(x) for x in np.linspace(start = 200, stop = 2000, num = 10)]\n",
    "# Number of features to consider at every split\n",
    "max_features = ['auto', 'sqrt','log2']\n",
    "# Maximum number of levels in tree\n",
    "max_depth = [int(x) for x in np.linspace(10, 1000,10)]\n",
    "# Minimum number of samples required to split a node\n",
    "min_samples_split = [2, 5, 10,14]\n",
    "# Minimum number of samples required at each leaf node\n",
    "min_samples_leaf = [1, 2, 4,6,8]\n",
    "# Create the random grid\n",
    "param = {'n_estimators': n_estimators,\n",
    "               'max_features': max_features,\n",
    "               'max_depth': max_depth,\n",
    "               'min_samples_split': min_samples_split,\n",
    "               'min_samples_leaf': min_samples_leaf,\n",
    "              'criterion':['entropy','gini']}\n",
    "print(param)"
   ]
  },
  {
   "cell_type": "code",
   "execution_count": 38,
   "id": "9186d29b",
   "metadata": {},
   "outputs": [
    {
     "name": "stdout",
     "output_type": "stream",
     "text": [
      "Collecting tpot\n",
      "  Downloading TPOT-0.11.7-py3-none-any.whl (87 kB)\n",
      "Collecting deap>=1.2\n",
      "  Downloading deap-1.3.3-cp39-cp39-win_amd64.whl (114 kB)\n",
      "Collecting update-checker>=0.16\n",
      "  Downloading update_checker-0.18.0-py3-none-any.whl (7.0 kB)\n",
      "Requirement already satisfied: joblib>=0.13.2 in c:\\users\\sugam arora\\anaconda3\\lib\\site-packages (from tpot) (1.1.0)\n",
      "Requirement already satisfied: scikit-learn>=0.22.0 in c:\\users\\sugam arora\\anaconda3\\lib\\site-packages (from tpot) (1.0.2)\n",
      "Requirement already satisfied: pandas>=0.24.2 in c:\\users\\sugam arora\\anaconda3\\lib\\site-packages (from tpot) (1.4.2)\n",
      "Requirement already satisfied: scipy>=1.3.1 in c:\\users\\sugam arora\\anaconda3\\lib\\site-packages (from tpot) (1.7.3)\n",
      "Collecting xgboost>=1.1.0\n",
      "  Downloading xgboost-1.7.5-py3-none-win_amd64.whl (70.9 MB)\n",
      "Requirement already satisfied: numpy>=1.16.3 in c:\\users\\sugam arora\\anaconda3\\lib\\site-packages (from tpot) (1.21.5)\n",
      "Collecting stopit>=1.1.1\n",
      "  Downloading stopit-1.1.2.tar.gz (18 kB)\n",
      "Requirement already satisfied: tqdm>=4.36.1 in c:\\users\\sugam arora\\anaconda3\\lib\\site-packages (from tpot) (4.64.0)\n",
      "Requirement already satisfied: python-dateutil>=2.8.1 in c:\\users\\sugam arora\\anaconda3\\lib\\site-packages (from pandas>=0.24.2->tpot) (2.8.2)\n",
      "Requirement already satisfied: pytz>=2020.1 in c:\\users\\sugam arora\\anaconda3\\lib\\site-packages (from pandas>=0.24.2->tpot) (2021.3)\n",
      "Requirement already satisfied: six>=1.5 in c:\\users\\sugam arora\\anaconda3\\lib\\site-packages (from python-dateutil>=2.8.1->pandas>=0.24.2->tpot) (1.16.0)\n",
      "Requirement already satisfied: threadpoolctl>=2.0.0 in c:\\users\\sugam arora\\anaconda3\\lib\\site-packages (from scikit-learn>=0.22.0->tpot) (2.2.0)\n",
      "Requirement already satisfied: colorama in c:\\users\\sugam arora\\anaconda3\\lib\\site-packages (from tqdm>=4.36.1->tpot) (0.4.4)\n",
      "Requirement already satisfied: requests>=2.3.0 in c:\\users\\sugam arora\\anaconda3\\lib\\site-packages (from update-checker>=0.16->tpot) (2.27.1)\n",
      "Requirement already satisfied: idna<4,>=2.5 in c:\\users\\sugam arora\\anaconda3\\lib\\site-packages (from requests>=2.3.0->update-checker>=0.16->tpot) (3.3)\n",
      "Requirement already satisfied: urllib3<1.27,>=1.21.1 in c:\\users\\sugam arora\\anaconda3\\lib\\site-packages (from requests>=2.3.0->update-checker>=0.16->tpot) (1.26.9)\n",
      "Requirement already satisfied: certifi>=2017.4.17 in c:\\users\\sugam arora\\anaconda3\\lib\\site-packages (from requests>=2.3.0->update-checker>=0.16->tpot) (2021.10.8)\n",
      "Requirement already satisfied: charset-normalizer~=2.0.0 in c:\\users\\sugam arora\\anaconda3\\lib\\site-packages (from requests>=2.3.0->update-checker>=0.16->tpot) (2.0.4)\n",
      "Building wheels for collected packages: stopit\n",
      "  Building wheel for stopit (setup.py): started\n",
      "  Building wheel for stopit (setup.py): finished with status 'done'\n",
      "  Created wheel for stopit: filename=stopit-1.1.2-py3-none-any.whl size=11956 sha256=c103ec0998b28381d282c58086f3ba78f256f91188842678a71894878f1061c9\n",
      "  Stored in directory: c:\\users\\sugam arora\\appdata\\local\\pip\\cache\\wheels\\48\\8c\\93\\3afb1916772591fe6bcc25cdf8b1c5bdc362f0ec8e2f0fd413\n",
      "Successfully built stopit\n",
      "Installing collected packages: xgboost, update-checker, stopit, deap, tpot\n",
      "Successfully installed deap-1.3.3 stopit-1.1.2 tpot-0.11.7 update-checker-0.18.0 xgboost-1.7.5\n",
      "Note: you may need to restart the kernel to use updated packages.\n"
     ]
    }
   ],
   "source": [
    "pip install tpot"
   ]
  },
  {
   "cell_type": "code",
   "execution_count": 39,
   "id": "e910fa6a",
   "metadata": {},
   "outputs": [
    {
     "data": {
      "application/vnd.jupyter.widget-view+json": {
       "model_id": "",
       "version_major": 2,
       "version_minor": 0
      },
      "text/plain": [
       "Optimization Progress:   0%|          | 0/84 [00:00<?, ?pipeline/s]"
      ]
     },
     "metadata": {},
     "output_type": "display_data"
    },
    {
     "name": "stdout",
     "output_type": "stream",
     "text": [
      "\n",
      "Generation 1 - Current best internal CV score: 0.7638358373652492\n",
      "\n",
      "Generation 2 - Current best internal CV score: 0.7638358373652492\n",
      "\n",
      "Generation 3 - Current best internal CV score: 0.7638358373652492\n",
      "\n",
      "Generation 4 - Current best internal CV score: 0.7638358373652492\n",
      "\n",
      "Generation 5 - Current best internal CV score: 0.7638358373652492\n",
      "\n",
      "Best pipeline: RandomForestClassifier(RandomForestClassifier(input_matrix, criterion=gini, max_depth=560, max_features=log2, min_samples_leaf=6, min_samples_split=10, n_estimators=2000), criterion=gini, max_depth=560, max_features=auto, min_samples_leaf=1, min_samples_split=5, n_estimators=400)\n"
     ]
    },
    {
     "data": {
      "text/plain": [
       "TPOTClassifier(config_dict={'sklearn.ensemble.RandomForestClassifier': {'criterion': ['entropy',\n",
       "                                                                                      'gini'],\n",
       "                                                                        'max_depth': [10,\n",
       "                                                                                      120,\n",
       "                                                                                      230,\n",
       "                                                                                      340,\n",
       "                                                                                      450,\n",
       "                                                                                      560,\n",
       "                                                                                      670,\n",
       "                                                                                      780,\n",
       "                                                                                      890,\n",
       "                                                                                      1000],\n",
       "                                                                        'max_features': ['auto',\n",
       "                                                                                         'sqrt',\n",
       "                                                                                         'log2'],\n",
       "                                                                        'min_samples_leaf': [1,\n",
       "                                                                                             2,\n",
       "                                                                                             4,\n",
       "                                                                                             6,\n",
       "                                                                                             8],\n",
       "                                                                        'min_samples_split': [2,\n",
       "                                                                                              5,\n",
       "                                                                                              10,\n",
       "                                                                                              14],\n",
       "                                                                        'n_estimators': [200,\n",
       "                                                                                         400,\n",
       "                                                                                         600,\n",
       "                                                                                         800,\n",
       "                                                                                         1000,\n",
       "                                                                                         1200,\n",
       "                                                                                         1400,\n",
       "                                                                                         1600,\n",
       "                                                                                         1800,\n",
       "                                                                                         2000]}},\n",
       "               cv=4, early_stop=12, generations=5, offspring_size=12,\n",
       "               population_size=24, scoring='accuracy', verbosity=2)"
      ]
     },
     "execution_count": 39,
     "metadata": {},
     "output_type": "execute_result"
    }
   ],
   "source": [
    "from tpot import TPOTClassifier\n",
    "\n",
    "\n",
    "tpot_classifier = TPOTClassifier(generations= 5, population_size= 24, offspring_size= 12,\n",
    "                                 verbosity= 2, early_stop= 12,\n",
    "                                 config_dict={'sklearn.ensemble.RandomForestClassifier': param}, \n",
    "                                 cv = 4, scoring = 'accuracy')\n",
    "tpot_classifier.fit(X_train,y_train)"
   ]
  },
  {
   "cell_type": "code",
   "execution_count": 40,
   "id": "feab84ac",
   "metadata": {},
   "outputs": [
    {
     "name": "stdout",
     "output_type": "stream",
     "text": [
      "0.8246753246753247\n"
     ]
    }
   ],
   "source": [
    "accuracy = tpot_classifier.score(X_test, y_test)\n",
    "print(accuracy)"
   ]
  },
  {
   "cell_type": "code",
   "execution_count": 41,
   "id": "7f0aa553",
   "metadata": {},
   "outputs": [
    {
     "name": "stdout",
     "output_type": "stream",
     "text": [
      "Collecting optuna\n",
      "  Downloading optuna-3.1.1-py3-none-any.whl (365 kB)\n",
      "Collecting cmaes>=0.9.1\n",
      "  Downloading cmaes-0.9.1-py3-none-any.whl (21 kB)\n",
      "Collecting alembic>=1.5.0\n",
      "  Downloading alembic-1.10.3-py3-none-any.whl (212 kB)\n",
      "Requirement already satisfied: tqdm in c:\\users\\sugam arora\\anaconda3\\lib\\site-packages (from optuna) (4.64.0)\n",
      "Requirement already satisfied: PyYAML in c:\\users\\sugam arora\\anaconda3\\lib\\site-packages (from optuna) (6.0)\n",
      "Requirement already satisfied: sqlalchemy>=1.3.0 in c:\\users\\sugam arora\\anaconda3\\lib\\site-packages (from optuna) (1.4.32)\n",
      "Collecting colorlog\n",
      "  Downloading colorlog-6.7.0-py2.py3-none-any.whl (11 kB)\n",
      "Requirement already satisfied: packaging>=20.0 in c:\\users\\sugam arora\\anaconda3\\lib\\site-packages (from optuna) (21.3)\n",
      "Requirement already satisfied: numpy in c:\\users\\sugam arora\\anaconda3\\lib\\site-packages (from optuna) (1.21.5)\n",
      "Requirement already satisfied: typing-extensions>=4 in c:\\users\\sugam arora\\anaconda3\\lib\\site-packages (from alembic>=1.5.0->optuna) (4.1.1)\n",
      "Collecting Mako\n",
      "  Downloading Mako-1.2.4-py3-none-any.whl (78 kB)\n",
      "Requirement already satisfied: pyparsing!=3.0.5,>=2.0.2 in c:\\users\\sugam arora\\anaconda3\\lib\\site-packages (from packaging>=20.0->optuna) (3.0.4)\n",
      "Requirement already satisfied: greenlet!=0.4.17 in c:\\users\\sugam arora\\anaconda3\\lib\\site-packages (from sqlalchemy>=1.3.0->optuna) (1.1.1)\n",
      "Requirement already satisfied: colorama in c:\\users\\sugam arora\\anaconda3\\lib\\site-packages (from colorlog->optuna) (0.4.4)\n",
      "Requirement already satisfied: MarkupSafe>=0.9.2 in c:\\users\\sugam arora\\anaconda3\\lib\\site-packages (from Mako->alembic>=1.5.0->optuna) (2.0.1)\n",
      "Installing collected packages: Mako, colorlog, cmaes, alembic, optuna\n",
      "Successfully installed Mako-1.2.4 alembic-1.10.3 cmaes-0.9.1 colorlog-6.7.0 optuna-3.1.1\n",
      "Note: you may need to restart the kernel to use updated packages.\n"
     ]
    }
   ],
   "source": [
    "pip install optuna"
   ]
  },
  {
   "cell_type": "code",
   "execution_count": 42,
   "id": "258695ce",
   "metadata": {},
   "outputs": [],
   "source": [
    "import optuna\n",
    "import sklearn.svm\n",
    "def objective(trial):\n",
    "\n",
    "    classifier = trial.suggest_categorical('classifier', ['RandomForest', 'SVC'])\n",
    "    \n",
    "    if classifier == 'RandomForest':\n",
    "        n_estimators = trial.suggest_int('n_estimators', 200, 2000,10)\n",
    "        max_depth = int(trial.suggest_float('max_depth', 10, 100, log=True))\n",
    "\n",
    "        clf = sklearn.ensemble.RandomForestClassifier(\n",
    "            n_estimators=n_estimators, max_depth=max_depth)\n",
    "    else:\n",
    "        c = trial.suggest_float('svc_c', 1e-10, 1e10, log=True)\n",
    "        \n",
    "        clf = sklearn.svm.SVC(C=c, gamma='auto')\n",
    "\n",
    "    return sklearn.model_selection.cross_val_score(\n",
    "        clf,X_train,y_train, n_jobs=-1, cv=3).mean()"
   ]
  },
  {
   "cell_type": "code",
   "execution_count": 43,
   "id": "0df2d321",
   "metadata": {},
   "outputs": [
    {
     "name": "stderr",
     "output_type": "stream",
     "text": [
      "\u001b[32m[I 2023-04-20 19:12:34,850]\u001b[0m A new study created in memory with name: no-name-31bf85e6-e496-4dc7-af60-88c8fbbb9a3f\u001b[0m\n",
      "\u001b[32m[I 2023-04-20 19:12:38,735]\u001b[0m Trial 0 finished with value: 0.640068547744301 and parameters: {'classifier': 'SVC', 'svc_c': 12.111658358752335}. Best is trial 0 with value: 0.640068547744301.\u001b[0m\n",
      "\u001b[32m[I 2023-04-20 19:12:41,245]\u001b[0m Trial 1 finished with value: 0.7508130081300813 and parameters: {'classifier': 'RandomForest', 'n_estimators': 970, 'max_depth': 24.828179974652866}. Best is trial 1 with value: 0.7508130081300813.\u001b[0m\n",
      "\u001b[32m[I 2023-04-20 19:12:44,598]\u001b[0m Trial 2 finished with value: 0.7524469950581859 and parameters: {'classifier': 'RandomForest', 'n_estimators': 1640, 'max_depth': 24.12377517033149}. Best is trial 2 with value: 0.7524469950581859.\u001b[0m\n",
      "\u001b[32m[I 2023-04-20 19:12:46,764]\u001b[0m Trial 3 finished with value: 0.7475609756097561 and parameters: {'classifier': 'RandomForest', 'n_estimators': 1280, 'max_depth': 67.33753565284957}. Best is trial 2 with value: 0.7524469950581859.\u001b[0m\n",
      "\u001b[32m[I 2023-04-20 19:12:46,801]\u001b[0m Trial 4 finished with value: 0.640068547744301 and parameters: {'classifier': 'SVC', 'svc_c': 2408.8974533510186}. Best is trial 2 with value: 0.7524469950581859.\u001b[0m\n",
      "\u001b[32m[I 2023-04-20 19:12:46,828]\u001b[0m Trial 5 finished with value: 0.640068547744301 and parameters: {'classifier': 'SVC', 'svc_c': 7.249001964726203e-08}. Best is trial 2 with value: 0.7524469950581859.\u001b[0m\n",
      "\u001b[32m[I 2023-04-20 19:12:46,875]\u001b[0m Trial 6 finished with value: 0.640068547744301 and parameters: {'classifier': 'SVC', 'svc_c': 4011.928292065605}. Best is trial 2 with value: 0.7524469950581859.\u001b[0m\n",
      "\u001b[32m[I 2023-04-20 19:12:48,961]\u001b[0m Trial 7 finished with value: 0.7491790212019768 and parameters: {'classifier': 'RandomForest', 'n_estimators': 1430, 'max_depth': 90.10179643683682}. Best is trial 2 with value: 0.7524469950581859.\u001b[0m\n",
      "\u001b[32m[I 2023-04-20 19:12:49,008]\u001b[0m Trial 8 finished with value: 0.640068547744301 and parameters: {'classifier': 'SVC', 'svc_c': 5584.558060258505}. Best is trial 2 with value: 0.7524469950581859.\u001b[0m\n",
      "\u001b[32m[I 2023-04-20 19:12:49,035]\u001b[0m Trial 9 finished with value: 0.640068547744301 and parameters: {'classifier': 'SVC', 'svc_c': 1.6702913527157877e-07}. Best is trial 2 with value: 0.7524469950581859.\u001b[0m\n",
      "\u001b[32m[I 2023-04-20 19:12:51,786]\u001b[0m Trial 10 finished with value: 0.7540490993145226 and parameters: {'classifier': 'RandomForest', 'n_estimators': 1900, 'max_depth': 10.362008385211235}. Best is trial 10 with value: 0.7540490993145226.\u001b[0m\n",
      "\u001b[32m[I 2023-04-20 19:12:54,878]\u001b[0m Trial 11 finished with value: 0.755699027578511 and parameters: {'classifier': 'RandomForest', 'n_estimators': 1910, 'max_depth': 10.029937185741725}. Best is trial 11 with value: 0.755699027578511.\u001b[0m\n",
      "\u001b[32m[I 2023-04-20 19:12:57,783]\u001b[0m Trial 12 finished with value: 0.7540570699824646 and parameters: {'classifier': 'RandomForest', 'n_estimators': 1900, 'max_depth': 10.276401199692424}. Best is trial 11 with value: 0.755699027578511.\u001b[0m\n",
      "\u001b[32m[I 2023-04-20 19:12:58,114]\u001b[0m Trial 13 finished with value: 0.7508130081300813 and parameters: {'classifier': 'RandomForest', 'n_estimators': 220, 'max_depth': 10.026059061199316}. Best is trial 11 with value: 0.755699027578511.\u001b[0m\n",
      "\u001b[32m[I 2023-04-20 19:13:01,813]\u001b[0m Trial 14 finished with value: 0.7524310537223019 and parameters: {'classifier': 'RandomForest', 'n_estimators': 1980, 'max_depth': 14.470520392315311}. Best is trial 11 with value: 0.755699027578511.\u001b[0m\n",
      "\u001b[32m[I 2023-04-20 19:13:03,262]\u001b[0m Trial 15 finished with value: 0.7540570699824646 and parameters: {'classifier': 'RandomForest', 'n_estimators': 870, 'max_depth': 16.187842934802543}. Best is trial 11 with value: 0.755699027578511.\u001b[0m\n",
      "\u001b[32m[I 2023-04-20 19:13:05,674]\u001b[0m Trial 16 finished with value: 0.7475530049418141 and parameters: {'classifier': 'RandomForest', 'n_estimators': 1640, 'max_depth': 15.791918983659013}. Best is trial 11 with value: 0.755699027578511.\u001b[0m\n",
      "\u001b[32m[I 2023-04-20 19:13:08,663]\u001b[0m Trial 17 finished with value: 0.7475530049418141 and parameters: {'classifier': 'RandomForest', 'n_estimators': 1990, 'max_depth': 10.132797583042738}. Best is trial 11 with value: 0.755699027578511.\u001b[0m\n",
      "\u001b[32m[I 2023-04-20 19:13:09,391]\u001b[0m Trial 18 finished with value: 0.7491790212019768 and parameters: {'classifier': 'RandomForest', 'n_estimators': 480, 'max_depth': 44.35874386682533}. Best is trial 11 with value: 0.755699027578511.\u001b[0m\n",
      "\u001b[32m[I 2023-04-20 19:13:12,184]\u001b[0m Trial 19 finished with value: 0.7524310537223019 and parameters: {'classifier': 'RandomForest', 'n_estimators': 1670, 'max_depth': 19.653251814068646}. Best is trial 11 with value: 0.755699027578511.\u001b[0m\n",
      "\u001b[32m[I 2023-04-20 19:13:14,120]\u001b[0m Trial 20 finished with value: 0.7508050374621393 and parameters: {'classifier': 'RandomForest', 'n_estimators': 1280, 'max_depth': 34.774053047498846}. Best is trial 11 with value: 0.755699027578511.\u001b[0m\n",
      "\u001b[32m[I 2023-04-20 19:13:15,521]\u001b[0m Trial 21 finished with value: 0.7508130081300813 and parameters: {'classifier': 'RandomForest', 'n_estimators': 920, 'max_depth': 14.151597056495323}. Best is trial 11 with value: 0.755699027578511.\u001b[0m\n",
      "\u001b[32m[I 2023-04-20 19:13:16,605]\u001b[0m Trial 22 finished with value: 0.7459269886816515 and parameters: {'classifier': 'RandomForest', 'n_estimators': 730, 'max_depth': 13.250932697868246}. Best is trial 11 with value: 0.755699027578511.\u001b[0m\n",
      "\u001b[32m[I 2023-04-20 19:13:17,594]\u001b[0m Trial 23 finished with value: 0.7491710505340348 and parameters: {'classifier': 'RandomForest', 'n_estimators': 640, 'max_depth': 12.92374910091472}. Best is trial 11 with value: 0.755699027578511.\u001b[0m\n",
      "\u001b[32m[I 2023-04-20 19:13:20,199]\u001b[0m Trial 24 finished with value: 0.7573170731707317 and parameters: {'classifier': 'RandomForest', 'n_estimators': 1740, 'max_depth': 18.466144304122924}. Best is trial 24 with value: 0.7573170731707317.\u001b[0m\n",
      "\u001b[32m[I 2023-04-20 19:13:22,799]\u001b[0m Trial 25 finished with value: 0.7589430894308943 and parameters: {'classifier': 'RandomForest', 'n_estimators': 1770, 'max_depth': 19.330810275889245}. Best is trial 25 with value: 0.7589430894308943.\u001b[0m\n",
      "\u001b[32m[I 2023-04-20 19:13:25,353]\u001b[0m Trial 26 finished with value: 0.7508130081300813 and parameters: {'classifier': 'RandomForest', 'n_estimators': 1760, 'max_depth': 20.352440728676772}. Best is trial 25 with value: 0.7589430894308943.\u001b[0m\n",
      "\u001b[32m[I 2023-04-20 19:13:27,893]\u001b[0m Trial 27 finished with value: 0.7491710505340348 and parameters: {'classifier': 'RandomForest', 'n_estimators': 1450, 'max_depth': 18.79435886848678}. Best is trial 25 with value: 0.7589430894308943.\u001b[0m\n",
      "\u001b[32m[I 2023-04-20 19:13:30,577]\u001b[0m Trial 28 finished with value: 0.7491790212019768 and parameters: {'classifier': 'RandomForest', 'n_estimators': 1790, 'max_depth': 26.826221104839068}. Best is trial 25 with value: 0.7589430894308943.\u001b[0m\n",
      "\u001b[32m[I 2023-04-20 19:13:30,618]\u001b[0m Trial 29 finished with value: 0.640068547744301 and parameters: {'classifier': 'SVC', 'svc_c': 1124014200.7464995}. Best is trial 25 with value: 0.7589430894308943.\u001b[0m\n",
      "\u001b[32m[I 2023-04-20 19:13:32,947]\u001b[0m Trial 30 finished with value: 0.7556830862426271 and parameters: {'classifier': 'RandomForest', 'n_estimators': 1500, 'max_depth': 20.59294804076221}. Best is trial 25 with value: 0.7589430894308943.\u001b[0m\n",
      "\u001b[32m[I 2023-04-20 19:13:35,318]\u001b[0m Trial 31 finished with value: 0.7475290929379882 and parameters: {'classifier': 'RandomForest', 'n_estimators': 1550, 'max_depth': 18.19266967759397}. Best is trial 25 with value: 0.7589430894308943.\u001b[0m\n",
      "\u001b[32m[I 2023-04-20 19:13:38,011]\u001b[0m Trial 32 finished with value: 0.7524310537223019 and parameters: {'classifier': 'RandomForest', 'n_estimators': 1790, 'max_depth': 20.75799935867806}. Best is trial 25 with value: 0.7589430894308943.\u001b[0m\n",
      "\u001b[32m[I 2023-04-20 19:13:39,915]\u001b[0m Trial 33 finished with value: 0.7540570699824646 and parameters: {'classifier': 'RandomForest', 'n_estimators': 1280, 'max_depth': 28.714632248915205}. Best is trial 25 with value: 0.7589430894308943.\u001b[0m\n",
      "\u001b[32m[I 2023-04-20 19:13:42,077]\u001b[0m Trial 34 finished with value: 0.7540570699824646 and parameters: {'classifier': 'RandomForest', 'n_estimators': 1470, 'max_depth': 22.475195924917333}. Best is trial 25 with value: 0.7589430894308943.\u001b[0m\n"
     ]
    },
    {
     "name": "stderr",
     "output_type": "stream",
     "text": [
      "\u001b[32m[I 2023-04-20 19:13:44,814]\u001b[0m Trial 35 finished with value: 0.7540650406504065 and parameters: {'classifier': 'RandomForest', 'n_estimators': 1800, 'max_depth': 18.383235739303654}. Best is trial 25 with value: 0.7589430894308943.\u001b[0m\n",
      "\u001b[32m[I 2023-04-20 19:13:46,473]\u001b[0m Trial 36 finished with value: 0.7540490993145226 and parameters: {'classifier': 'RandomForest', 'n_estimators': 1130, 'max_depth': 16.89341331359065}. Best is trial 25 with value: 0.7589430894308943.\u001b[0m\n",
      "\u001b[32m[I 2023-04-20 19:13:46,510]\u001b[0m Trial 37 finished with value: 0.640068547744301 and parameters: {'classifier': 'SVC', 'svc_c': 0.00024560755481018077}. Best is trial 25 with value: 0.7589430894308943.\u001b[0m\n",
      "\u001b[32m[I 2023-04-20 19:13:48,877]\u001b[0m Trial 38 finished with value: 0.7524310537223019 and parameters: {'classifier': 'RandomForest', 'n_estimators': 1570, 'max_depth': 24.075745541547096}. Best is trial 25 with value: 0.7589430894308943.\u001b[0m\n",
      "\u001b[32m[I 2023-04-20 19:13:48,912]\u001b[0m Trial 39 finished with value: 0.640068547744301 and parameters: {'classifier': 'SVC', 'svc_c': 3.4702900824299866e-10}. Best is trial 25 with value: 0.7589430894308943.\u001b[0m\n",
      "\u001b[32m[I 2023-04-20 19:13:51,639]\u001b[0m Trial 40 finished with value: 0.7508050374621393 and parameters: {'classifier': 'RandomForest', 'n_estimators': 1870, 'max_depth': 12.08141560400288}. Best is trial 25 with value: 0.7589430894308943.\u001b[0m\n",
      "\u001b[32m[I 2023-04-20 19:13:54,269]\u001b[0m Trial 41 finished with value: 0.7475530049418141 and parameters: {'classifier': 'RandomForest', 'n_estimators': 1720, 'max_depth': 16.647024384285682}. Best is trial 25 with value: 0.7589430894308943.\u001b[0m\n",
      "\u001b[32m[I 2023-04-20 19:13:57,050]\u001b[0m Trial 42 finished with value: 0.7524310537223019 and parameters: {'classifier': 'RandomForest', 'n_estimators': 1850, 'max_depth': 22.417954741215866}. Best is trial 25 with value: 0.7589430894308943.\u001b[0m\n",
      "\u001b[32m[I 2023-04-20 19:13:59,614]\u001b[0m Trial 43 finished with value: 0.7491869918699187 and parameters: {'classifier': 'RandomForest', 'n_estimators': 1690, 'max_depth': 18.443979285430796}. Best is trial 25 with value: 0.7589430894308943.\u001b[0m\n",
      "\u001b[32m[I 2023-04-20 19:14:02,039]\u001b[0m Trial 44 finished with value: 0.7491710505340348 and parameters: {'classifier': 'RandomForest', 'n_estimators': 1590, 'max_depth': 15.713615810988882}. Best is trial 25 with value: 0.7589430894308943.\u001b[0m\n",
      "\u001b[32m[I 2023-04-20 19:14:04,963]\u001b[0m Trial 45 finished with value: 0.7524310537223019 and parameters: {'classifier': 'RandomForest', 'n_estimators': 1970, 'max_depth': 11.743089011071707}. Best is trial 25 with value: 0.7589430894308943.\u001b[0m\n",
      "\u001b[32m[I 2023-04-20 19:14:05,029]\u001b[0m Trial 46 finished with value: 0.640068547744301 and parameters: {'classifier': 'SVC', 'svc_c': 4547684212.069361}. Best is trial 25 with value: 0.7589430894308943.\u001b[0m\n",
      "\u001b[32m[I 2023-04-20 19:14:07,040]\u001b[0m Trial 47 finished with value: 0.7540570699824646 and parameters: {'classifier': 'RandomForest', 'n_estimators': 1320, 'max_depth': 25.135102347482658}. Best is trial 25 with value: 0.7589430894308943.\u001b[0m\n",
      "\u001b[32m[I 2023-04-20 19:14:09,598]\u001b[0m Trial 48 finished with value: 0.7508050374621393 and parameters: {'classifier': 'RandomForest', 'n_estimators': 1760, 'max_depth': 14.368372537989352}. Best is trial 25 with value: 0.7589430894308943.\u001b[0m\n",
      "\u001b[32m[I 2023-04-20 19:14:12,393]\u001b[0m Trial 49 finished with value: 0.7556910569105691 and parameters: {'classifier': 'RandomForest', 'n_estimators': 1870, 'max_depth': 11.778540226517947}. Best is trial 25 with value: 0.7589430894308943.\u001b[0m\n",
      "\u001b[32m[I 2023-04-20 19:14:12,446]\u001b[0m Trial 50 finished with value: 0.640068547744301 and parameters: {'classifier': 'SVC', 'svc_c': 0.11953513804451972}. Best is trial 25 with value: 0.7589430894308943.\u001b[0m\n",
      "\u001b[32m[I 2023-04-20 19:14:15,191]\u001b[0m Trial 51 finished with value: 0.7540570699824646 and parameters: {'classifier': 'RandomForest', 'n_estimators': 1860, 'max_depth': 12.106418292015748}. Best is trial 25 with value: 0.7589430894308943.\u001b[0m\n",
      "\u001b[32m[I 2023-04-20 19:14:17,964]\u001b[0m Trial 52 finished with value: 0.7589430894308943 and parameters: {'classifier': 'RandomForest', 'n_estimators': 1890, 'max_depth': 11.834866809374203}. Best is trial 25 with value: 0.7589430894308943.\u001b[0m\n",
      "\u001b[32m[I 2023-04-20 19:14:20,751]\u001b[0m Trial 53 finished with value: 0.7524390243902439 and parameters: {'classifier': 'RandomForest', 'n_estimators': 1920, 'max_depth': 11.252705767785088}. Best is trial 25 with value: 0.7589430894308943.\u001b[0m\n",
      "\u001b[32m[I 2023-04-20 19:14:23,626]\u001b[0m Trial 54 finished with value: 0.7540650406504065 and parameters: {'classifier': 'RandomForest', 'n_estimators': 1920, 'max_depth': 11.069219989221475}. Best is trial 25 with value: 0.7589430894308943.\u001b[0m\n",
      "\u001b[32m[I 2023-04-20 19:14:26,109]\u001b[0m Trial 55 finished with value: 0.7508050374621393 and parameters: {'classifier': 'RandomForest', 'n_estimators': 1640, 'max_depth': 13.287276685176863}. Best is trial 25 with value: 0.7589430894308943.\u001b[0m\n",
      "\u001b[32m[I 2023-04-20 19:14:28,989]\u001b[0m Trial 56 finished with value: 0.7475530049418141 and parameters: {'classifier': 'RandomForest', 'n_estimators': 2000, 'max_depth': 10.12424244424116}. Best is trial 25 with value: 0.7589430894308943.\u001b[0m\n",
      "\u001b[32m[I 2023-04-20 19:14:31,192]\u001b[0m Trial 57 finished with value: 0.7556830862426271 and parameters: {'classifier': 'RandomForest', 'n_estimators': 1500, 'max_depth': 11.145102058619274}. Best is trial 25 with value: 0.7589430894308943.\u001b[0m\n",
      "\u001b[32m[I 2023-04-20 19:14:33,694]\u001b[0m Trial 58 finished with value: 0.7540570699824646 and parameters: {'classifier': 'RandomForest', 'n_estimators': 1690, 'max_depth': 15.09855329131731}. Best is trial 25 with value: 0.7589430894308943.\u001b[0m\n",
      "\u001b[32m[I 2023-04-20 19:14:36,410]\u001b[0m Trial 59 finished with value: 0.7491790212019768 and parameters: {'classifier': 'RandomForest', 'n_estimators': 1830, 'max_depth': 13.881148433199735}. Best is trial 25 with value: 0.7589430894308943.\u001b[0m\n",
      "\u001b[32m[I 2023-04-20 19:14:38,404]\u001b[0m Trial 60 finished with value: 0.7540650406504065 and parameters: {'classifier': 'RandomForest', 'n_estimators': 1350, 'max_depth': 12.356609887350734}. Best is trial 25 with value: 0.7589430894308943.\u001b[0m\n",
      "\u001b[32m[I 2023-04-20 19:14:40,092]\u001b[0m Trial 61 finished with value: 0.7491710505340348 and parameters: {'classifier': 'RandomForest', 'n_estimators': 1160, 'max_depth': 10.806201165131547}. Best is trial 25 with value: 0.7589430894308943.\u001b[0m\n",
      "\u001b[32m[I 2023-04-20 19:14:42,244]\u001b[0m Trial 62 finished with value: 0.7524310537223019 and parameters: {'classifier': 'RandomForest', 'n_estimators': 1480, 'max_depth': 11.13196312243079}. Best is trial 25 with value: 0.7589430894308943.\u001b[0m\n",
      "\u001b[32m[I 2023-04-20 19:14:43,792]\u001b[0m Trial 63 finished with value: 0.7540490993145226 and parameters: {'classifier': 'RandomForest', 'n_estimators': 1030, 'max_depth': 13.019975389510975}. Best is trial 25 with value: 0.7589430894308943.\u001b[0m\n",
      "\u001b[32m[I 2023-04-20 19:14:46,068]\u001b[0m Trial 64 finished with value: 0.7524469950581859 and parameters: {'classifier': 'RandomForest', 'n_estimators': 1540, 'max_depth': 14.58540824779008}. Best is trial 25 with value: 0.7589430894308943.\u001b[0m\n",
      "\u001b[32m[I 2023-04-20 19:14:48,908]\u001b[0m Trial 65 finished with value: 0.7524390243902439 and parameters: {'classifier': 'RandomForest', 'n_estimators': 1910, 'max_depth': 10.10540990405422}. Best is trial 25 with value: 0.7589430894308943.\u001b[0m\n",
      "\u001b[32m[I 2023-04-20 19:14:51,602]\u001b[0m Trial 66 finished with value: 0.7491710505340348 and parameters: {'classifier': 'RandomForest', 'n_estimators': 1730, 'max_depth': 12.183800523649374}. Best is trial 25 with value: 0.7589430894308943.\u001b[0m\n",
      "\u001b[32m[I 2023-04-20 19:14:53,624]\u001b[0m Trial 67 finished with value: 0.7556751155746851 and parameters: {'classifier': 'RandomForest', 'n_estimators': 1380, 'max_depth': 16.840232556556213}. Best is trial 25 with value: 0.7589430894308943.\u001b[0m\n",
      "\u001b[32m[I 2023-04-20 19:14:56,102]\u001b[0m Trial 68 finished with value: 0.7524310537223019 and parameters: {'classifier': 'RandomForest', 'n_estimators': 1620, 'max_depth': 13.521851574149203}. Best is trial 25 with value: 0.7589430894308943.\u001b[0m\n",
      "\u001b[32m[I 2023-04-20 19:14:56,135]\u001b[0m Trial 69 finished with value: 0.640068547744301 and parameters: {'classifier': 'SVC', 'svc_c': 0.0007996033242941342}. Best is trial 25 with value: 0.7589430894308943.\u001b[0m\n"
     ]
    },
    {
     "name": "stderr",
     "output_type": "stream",
     "text": [
      "\u001b[32m[I 2023-04-20 19:14:57,942]\u001b[0m Trial 70 finished with value: 0.7524310537223019 and parameters: {'classifier': 'RandomForest', 'n_estimators': 1230, 'max_depth': 11.01282110860811}. Best is trial 25 with value: 0.7589430894308943.\u001b[0m\n",
      "\u001b[32m[I 2023-04-20 19:15:00,046]\u001b[0m Trial 71 finished with value: 0.7475370636059302 and parameters: {'classifier': 'RandomForest', 'n_estimators': 1400, 'max_depth': 16.86763119148031}. Best is trial 25 with value: 0.7589430894308943.\u001b[0m\n",
      "\u001b[32m[I 2023-04-20 19:15:02,406]\u001b[0m Trial 72 finished with value: 0.7507970667941973 and parameters: {'classifier': 'RandomForest', 'n_estimators': 1530, 'max_depth': 15.917449737134532}. Best is trial 25 with value: 0.7589430894308943.\u001b[0m\n",
      "\u001b[32m[I 2023-04-20 19:15:04,562]\u001b[0m Trial 73 finished with value: 0.7491710505340348 and parameters: {'classifier': 'RandomForest', 'n_estimators': 1400, 'max_depth': 20.33053970725848}. Best is trial 25 with value: 0.7589430894308943.\u001b[0m\n",
      "\u001b[32m[I 2023-04-20 19:15:07,466]\u001b[0m Trial 74 finished with value: 0.7459190180137095 and parameters: {'classifier': 'RandomForest', 'n_estimators': 1950, 'max_depth': 14.427685294695912}. Best is trial 25 with value: 0.7589430894308943.\u001b[0m\n",
      "\u001b[32m[I 2023-04-20 19:15:10,172]\u001b[0m Trial 75 finished with value: 0.7540650406504065 and parameters: {'classifier': 'RandomForest', 'n_estimators': 1820, 'max_depth': 17.26875012280111}. Best is trial 25 with value: 0.7589430894308943.\u001b[0m\n",
      "\u001b[32m[I 2023-04-20 19:15:12,632]\u001b[0m Trial 76 finished with value: 0.7540650406504065 and parameters: {'classifier': 'RandomForest', 'n_estimators': 1660, 'max_depth': 15.382551822432863}. Best is trial 25 with value: 0.7589430894308943.\u001b[0m\n",
      "\u001b[32m[I 2023-04-20 19:15:14,837]\u001b[0m Trial 77 finished with value: 0.7524390243902439 and parameters: {'classifier': 'RandomForest', 'n_estimators': 1500, 'max_depth': 12.722718768016925}. Best is trial 25 with value: 0.7589430894308943.\u001b[0m\n",
      "\u001b[32m[I 2023-04-20 19:15:17,409]\u001b[0m Trial 78 finished with value: 0.7524310537223019 and parameters: {'classifier': 'RandomForest', 'n_estimators': 1760, 'max_depth': 11.61179253926022}. Best is trial 25 with value: 0.7589430894308943.\u001b[0m\n",
      "\u001b[32m[I 2023-04-20 19:15:20,269]\u001b[0m Trial 79 finished with value: 0.75242308305436 and parameters: {'classifier': 'RandomForest', 'n_estimators': 1870, 'max_depth': 19.647286845204217}. Best is trial 25 with value: 0.7589430894308943.\u001b[0m\n",
      "\u001b[32m[I 2023-04-20 19:15:20,324]\u001b[0m Trial 80 finished with value: 0.640068547744301 and parameters: {'classifier': 'SVC', 'svc_c': 4911900.835091952}. Best is trial 25 with value: 0.7589430894308943.\u001b[0m\n",
      "\u001b[32m[I 2023-04-20 19:15:22,657]\u001b[0m Trial 81 finished with value: 0.7524310537223019 and parameters: {'classifier': 'RandomForest', 'n_estimators': 1600, 'max_depth': 17.610513528943994}. Best is trial 25 with value: 0.7589430894308943.\u001b[0m\n",
      "\u001b[32m[I 2023-04-20 19:15:25,496]\u001b[0m Trial 82 finished with value: 0.7507970667941973 and parameters: {'classifier': 'RandomForest', 'n_estimators': 1770, 'max_depth': 19.22836270984081}. Best is trial 25 with value: 0.7589430894308943.\u001b[0m\n",
      "\u001b[32m[I 2023-04-20 19:15:26,156]\u001b[0m Trial 83 finished with value: 0.7540650406504065 and parameters: {'classifier': 'RandomForest', 'n_estimators': 390, 'max_depth': 18.10999917235032}. Best is trial 25 with value: 0.7589430894308943.\u001b[0m\n",
      "\u001b[32m[I 2023-04-20 19:15:28,931]\u001b[0m Trial 84 finished with value: 0.7507970667941973 and parameters: {'classifier': 'RandomForest', 'n_estimators': 1820, 'max_depth': 21.244764804961292}. Best is trial 25 with value: 0.7589430894308943.\u001b[0m\n",
      "\u001b[32m[I 2023-04-20 19:15:31,454]\u001b[0m Trial 85 finished with value: 0.7491790212019768 and parameters: {'classifier': 'RandomForest', 'n_estimators': 1710, 'max_depth': 10.495678178996128}. Best is trial 25 with value: 0.7589430894308943.\u001b[0m\n",
      "\u001b[32m[I 2023-04-20 19:15:34,393]\u001b[0m Trial 86 finished with value: 0.7540650406504065 and parameters: {'classifier': 'RandomForest', 'n_estimators': 1950, 'max_depth': 15.453079756747186}. Best is trial 25 with value: 0.7589430894308943.\u001b[0m\n",
      "\u001b[32m[I 2023-04-20 19:15:37,034]\u001b[0m Trial 87 finished with value: 0.75242308305436 and parameters: {'classifier': 'RandomForest', 'n_estimators': 1810, 'max_depth': 13.470420697075117}. Best is trial 25 with value: 0.7589430894308943.\u001b[0m\n",
      "\u001b[32m[I 2023-04-20 19:15:39,785]\u001b[0m Trial 88 finished with value: 0.7540650406504065 and parameters: {'classifier': 'RandomForest', 'n_estimators': 1880, 'max_depth': 18.933846357899785}. Best is trial 25 with value: 0.7589430894308943.\u001b[0m\n",
      "\u001b[32m[I 2023-04-20 19:15:42,758]\u001b[0m Trial 89 finished with value: 0.7524390243902439 and parameters: {'classifier': 'RandomForest', 'n_estimators': 2000, 'max_depth': 16.445176200326554}. Best is trial 25 with value: 0.7589430894308943.\u001b[0m\n",
      "\u001b[32m[I 2023-04-20 19:15:45,136]\u001b[0m Trial 90 finished with value: 0.7524310537223019 and parameters: {'classifier': 'RandomForest', 'n_estimators': 1650, 'max_depth': 11.712616715096678}. Best is trial 25 with value: 0.7589430894308943.\u001b[0m\n",
      "\u001b[32m[I 2023-04-20 19:15:47,956]\u001b[0m Trial 91 finished with value: 0.7475530049418141 and parameters: {'classifier': 'RandomForest', 'n_estimators': 1910, 'max_depth': 10.113290418591673}. Best is trial 25 with value: 0.7589430894308943.\u001b[0m\n",
      "\u001b[32m[I 2023-04-20 19:15:50,876]\u001b[0m Trial 92 finished with value: 0.7540570699824646 and parameters: {'classifier': 'RandomForest', 'n_estimators': 1930, 'max_depth': 12.638543467234895}. Best is trial 25 with value: 0.7589430894308943.\u001b[0m\n",
      "\u001b[32m[I 2023-04-20 19:15:53,443]\u001b[0m Trial 93 finished with value: 0.7524390243902439 and parameters: {'classifier': 'RandomForest', 'n_estimators': 1730, 'max_depth': 10.938303053431074}. Best is trial 25 with value: 0.7589430894308943.\u001b[0m\n",
      "\u001b[32m[I 2023-04-20 19:15:56,261]\u001b[0m Trial 94 finished with value: 0.7589430894308943 and parameters: {'classifier': 'RandomForest', 'n_estimators': 1880, 'max_depth': 11.677091188206893}. Best is trial 25 with value: 0.7589430894308943.\u001b[0m\n",
      "\u001b[32m[I 2023-04-20 19:15:58,981]\u001b[0m Trial 95 finished with value: 0.7491790212019768 and parameters: {'classifier': 'RandomForest', 'n_estimators': 1790, 'max_depth': 11.892433626916505}. Best is trial 25 with value: 0.7589430894308943.\u001b[0m\n",
      "\u001b[32m[I 2023-04-20 19:16:02,346]\u001b[0m Trial 96 finished with value: 0.7524390243902439 and parameters: {'classifier': 'RandomForest', 'n_estimators': 1860, 'max_depth': 14.153542938814477}. Best is trial 25 with value: 0.7589430894308943.\u001b[0m\n",
      "\u001b[32m[I 2023-04-20 19:16:02,406]\u001b[0m Trial 97 finished with value: 0.640068547744301 and parameters: {'classifier': 'SVC', 'svc_c': 1588826.0128224797}. Best is trial 25 with value: 0.7589430894308943.\u001b[0m\n",
      "\u001b[32m[I 2023-04-20 19:16:05,244]\u001b[0m Trial 98 finished with value: 0.755699027578511 and parameters: {'classifier': 'RandomForest', 'n_estimators': 1430, 'max_depth': 21.79268601413147}. Best is trial 25 with value: 0.7589430894308943.\u001b[0m\n",
      "\u001b[32m[I 2023-04-20 19:16:07,444]\u001b[0m Trial 99 finished with value: 0.7508050374621393 and parameters: {'classifier': 'RandomForest', 'n_estimators': 1400, 'max_depth': 22.61260891092865}. Best is trial 25 with value: 0.7589430894308943.\u001b[0m\n"
     ]
    },
    {
     "name": "stdout",
     "output_type": "stream",
     "text": [
      "Accuracy: 0.7589430894308943\n",
      "Best hyperparameters: {'classifier': 'RandomForest', 'n_estimators': 1770, 'max_depth': 19.330810275889245}\n"
     ]
    }
   ],
   "source": [
    "study = optuna.create_study(direction='maximize')\n",
    "study.optimize(objective, n_trials=100)\n",
    "\n",
    "trial = study.best_trial\n",
    "\n",
    "print('Accuracy: {}'.format(trial.value))\n",
    "print(\"Best hyperparameters: {}\".format(trial.params))"
   ]
  },
  {
   "cell_type": "code",
   "execution_count": 44,
   "id": "8ca68c80",
   "metadata": {},
   "outputs": [
    {
     "data": {
      "text/plain": [
       "FrozenTrial(number=25, state=TrialState.COMPLETE, values=[0.7589430894308943], datetime_start=datetime.datetime(2023, 4, 20, 19, 13, 20, 200114), datetime_complete=datetime.datetime(2023, 4, 20, 19, 13, 22, 799554), params={'classifier': 'RandomForest', 'n_estimators': 1770, 'max_depth': 19.330810275889245}, user_attrs={}, system_attrs={}, intermediate_values={}, distributions={'classifier': CategoricalDistribution(choices=('RandomForest', 'SVC')), 'n_estimators': IntDistribution(high=2000, log=False, low=200, step=10), 'max_depth': FloatDistribution(high=100.0, log=True, low=10.0, step=None)}, trial_id=25, value=None)"
      ]
     },
     "execution_count": 44,
     "metadata": {},
     "output_type": "execute_result"
    }
   ],
   "source": [
    "trial"
   ]
  },
  {
   "cell_type": "code",
   "execution_count": 45,
   "id": "01ae39af",
   "metadata": {},
   "outputs": [
    {
     "data": {
      "text/plain": [
       "{'classifier': 'RandomForest',\n",
       " 'n_estimators': 1770,\n",
       " 'max_depth': 19.330810275889245}"
      ]
     },
     "execution_count": 45,
     "metadata": {},
     "output_type": "execute_result"
    }
   ],
   "source": [
    "study.best_params\n"
   ]
  },
  {
   "cell_type": "code",
   "execution_count": 46,
   "id": "51d4d7bf",
   "metadata": {},
   "outputs": [
    {
     "data": {
      "text/plain": [
       "RandomForestClassifier(max_depth=30, n_estimators=330)"
      ]
     },
     "execution_count": 46,
     "metadata": {},
     "output_type": "execute_result"
    }
   ],
   "source": [
    "rf=RandomForestClassifier(n_estimators=330,max_depth=30)\n",
    "rf.fit(X_train,y_train)"
   ]
  },
  {
   "cell_type": "code",
   "execution_count": 47,
   "id": "93911950",
   "metadata": {},
   "outputs": [
    {
     "name": "stdout",
     "output_type": "stream",
     "text": [
      "[[95 12]\n",
      " [15 32]]\n",
      "0.8246753246753247\n",
      "              precision    recall  f1-score   support\n",
      "\n",
      "           0       0.86      0.89      0.88       107\n",
      "           1       0.73      0.68      0.70        47\n",
      "\n",
      "    accuracy                           0.82       154\n",
      "   macro avg       0.80      0.78      0.79       154\n",
      "weighted avg       0.82      0.82      0.82       154\n",
      "\n"
     ]
    }
   ],
   "source": [
    "y_pred=rf.predict(X_test)\n",
    "print(confusion_matrix(y_test,y_pred))\n",
    "print(accuracy_score(y_test,y_pred))\n",
    "print(classification_report(y_test,y_pred))"
   ]
  },
  {
   "cell_type": "code",
   "execution_count": null,
   "id": "a9f13846",
   "metadata": {},
   "outputs": [],
   "source": []
  }
 ],
 "metadata": {
  "kernelspec": {
   "display_name": "Python 3 (ipykernel)",
   "language": "python",
   "name": "python3"
  },
  "language_info": {
   "codemirror_mode": {
    "name": "ipython",
    "version": 3
   },
   "file_extension": ".py",
   "mimetype": "text/x-python",
   "name": "python",
   "nbconvert_exporter": "python",
   "pygments_lexer": "ipython3",
   "version": "3.9.12"
  }
 },
 "nbformat": 4,
 "nbformat_minor": 5
}
